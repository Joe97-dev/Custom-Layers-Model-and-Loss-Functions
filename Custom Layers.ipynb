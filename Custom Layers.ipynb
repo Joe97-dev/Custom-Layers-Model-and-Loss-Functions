{
 "cells": [
  {
   "cell_type": "markdown",
   "metadata": {},
   "source": [
    "## Custom Layers "
   ]
  },
  {
   "cell_type": "code",
   "execution_count": 1,
   "metadata": {},
   "outputs": [],
   "source": [
    "import tensorflow as tf"
   ]
  },
  {
   "cell_type": "code",
   "execution_count": 2,
   "metadata": {},
   "outputs": [],
   "source": [
    "mnist = tf.keras.datasets.mnist\n",
    "(x_train, y_train), (x_test, y_test) = mnist.load_data()\n",
    "x_train, x_test = x_train / 255.0, x_test / 255.0"
   ]
  },
  {
   "cell_type": "code",
   "execution_count": 9,
   "metadata": {},
   "outputs": [
    {
     "name": "stdout",
     "output_type": "stream",
     "text": [
      "Train on 60000 samples\n",
      "Epoch 1/5\n",
      "60000/60000 [==============================] - 36s 604us/sample - loss: 0.2546 - accuracy: 0.9274\n",
      "Epoch 2/5\n",
      "60000/60000 [==============================] - 31s 520us/sample - loss: 0.1112 - accuracy: 0.9676\n",
      "Epoch 3/5\n",
      "60000/60000 [==============================] - 31s 518us/sample - loss: 0.0756 - accuracy: 0.9776\n",
      "Epoch 4/5\n",
      "60000/60000 [==============================] - 28s 472us/sample - loss: 0.0554 - accuracy: 0.9832- ETA: 1s - loss: 0.0\n",
      "Epoch 5/5\n",
      "60000/60000 [==============================] - 31s 509us/sample - loss: 0.0420 - accuracy: 0.9867\n",
      "10000/10000 [==============================] - 5s 480us/sample - loss: 0.0773 - accuracy: 0.9780\n"
     ]
    },
    {
     "data": {
      "text/plain": [
       "[0.07733687666975893, 0.978]"
      ]
     },
     "execution_count": 9,
     "metadata": {},
     "output_type": "execute_result"
    }
   ],
   "source": [
    "# Introduction to Lambda Layers\n",
    "# tf.keras.layers.Lambda(lambda x:tf.abs(x))\n",
    "from keras import backend as K\n",
    "def my_relu(x):\n",
    "    return K.maximum(-0.1, x)\n",
    "\n",
    "model2 = tf.keras.Sequential([\n",
    "    tf.keras.layers.Flatten(input_shape = (28,28)),\n",
    "    tf.keras.layers.Dense(128),\n",
    "    tf.keras.layers.Lambda(my_relu),\n",
    "    tf.keras.layers.Dense(10, activation = 'softmax')\n",
    "    \n",
    "])\n",
    "model2.compile(optimizer = 'adam', loss = 'sparse_categorical_crossentropy', metrics = ['accuracy'])\n",
    "model2.fit(x_train, y_train,epochs = 5)\n",
    "model2.evaluate(x_test, y_test)"
   ]
  },
  {
   "cell_type": "code",
   "execution_count": 5,
   "metadata": {},
   "outputs": [
    {
     "name": "stdout",
     "output_type": "stream",
     "text": [
      "[<tf.Variable 'simple_dense/kernel:0' shape=(1, 1) dtype=float32, numpy=array([[-0.07750624]], dtype=float32)>, <tf.Variable 'simple_dense/bias:0' shape=(1,) dtype=float32, numpy=array([0.], dtype=float32)>]\n"
     ]
    }
   ],
   "source": [
    "from tensorflow.keras.layers import Layer\n",
    "class SimpleDense(Layer):\n",
    "    \n",
    "    def __init__(self, units = 32):\n",
    "        super(SimpleDense, self).__init__()\n",
    "        self.units = units\n",
    "        \n",
    "    def build(self, input_shape):#Create the state of the layer(weights)\n",
    "        w_init = tf.random_normal_initializer()\n",
    "        self.w = tf.Variable(name = 'kernel',\n",
    "                             initial_value = w_init(shape=(input_shape[-1], self.units),\n",
    "                                                   dtype = 'float32'),\n",
    "                             trainable = True)\n",
    "        b_init = tf.zeros_initializer()\n",
    "        self.b = tf.Variable(name = 'bias', initial_value = b_init(shape = (self.units,),dtype = 'float32'), trainable = True)\n",
    "    def call(self, inputs): # Defines the computation from inputs to outputs\n",
    "        return tf.matmul(inputs, self.w) + self.b\n",
    "    \n",
    "my_dense = SimpleDense(units = 1)\n",
    "x = tf.ones((1,1))\n",
    "y = my_dense(x)\n",
    "print(my_dense.variables)"
   ]
  },
  {
   "cell_type": "code",
   "execution_count": 6,
   "metadata": {},
   "outputs": [
    {
     "name": "stdout",
     "output_type": "stream",
     "text": [
      "[[18.981548]]\n",
      "[<tf.Variable 'sequential/simple_dense_1/kernel:0' shape=(1, 1) dtype=float32, numpy=array([[1.9973257]], dtype=float32)>, <tf.Variable 'sequential/simple_dense_1/bias:0' shape=(1,) dtype=float32, numpy=array([-0.9917087], dtype=float32)>]\n"
     ]
    }
   ],
   "source": [
    "import numpy as np\n",
    "xs = np.array([-1.0,0.0,1.0,2.0,3.0,4.0], dtype=float)\n",
    "ys = np.array([-3.0,-1.0,1.0,3.0,5.0,7.0], dtype = float)\n",
    "my_layer = SimpleDense(units = 1)\n",
    "model = tf.keras.Sequential([my_layer])\n",
    "model.compile(optimizer = 'sgd', loss = 'mean_squared_error')\n",
    "model.fit(xs, ys, epochs = 500, verbose = 0)\n",
    "print(model.predict([10]))\n",
    "print(my_layer.variables)"
   ]
  },
  {
   "cell_type": "code",
   "execution_count": null,
   "metadata": {},
   "outputs": [],
   "source": [
    "# Activating the custom layer\n",
    "class Simple_Dense(Layer):\n",
    "    def __init__(self, units =32, activation =None):\n",
    "        super(Simple_Dense, self).__init__()\n",
    "        self.units = units\n",
    "        self.activation = tf.keras.activations.get(activation)\n",
    "        \n",
    "    def build(self, input_shape):\n",
    "        w_init = tf.random_normal_initializer()\n",
    "        self.w = tf.Variable(name = 'kernel',\n",
    "                             initial_value = w_init(shape=(input_shape[-1], self.units),\n",
    "                                                   dtype = 'float32'),\n",
    "                             trainable = True)\n",
    "        b_init = tf.zeros_initializer()\n",
    "        self.b = tf.Variable(name = 'bias', initial_value = b_init(shape = (self.units,),dtype = 'float32'), trainable = True)\n",
    "    def call(self, inputs): # Defines the computation from inputs to outputs\n",
    "        return self.activation(tf.matmul(inputs, self.w) + self.b)"
   ]
  },
  {
   "cell_type": "code",
   "execution_count": 8,
   "metadata": {},
   "outputs": [
    {
     "ename": "NameError",
     "evalue": "name 'Simple_Dense' is not defined",
     "output_type": "error",
     "traceback": [
      "\u001b[1;31m---------------------------------------------------------------------------\u001b[0m",
      "\u001b[1;31mNameError\u001b[0m                                 Traceback (most recent call last)",
      "\u001b[1;32m<ipython-input-8-514ffeb177a3>\u001b[0m in \u001b[0;36m<module>\u001b[1;34m\u001b[0m\n\u001b[0;32m      1\u001b[0m model3 = tf.keras.Sequential([\n\u001b[0;32m      2\u001b[0m     \u001b[0mtf\u001b[0m\u001b[1;33m.\u001b[0m\u001b[0mkeras\u001b[0m\u001b[1;33m.\u001b[0m\u001b[0mlayers\u001b[0m\u001b[1;33m.\u001b[0m\u001b[0mFlatten\u001b[0m\u001b[1;33m(\u001b[0m\u001b[0minput_shape\u001b[0m \u001b[1;33m=\u001b[0m \u001b[1;33m(\u001b[0m\u001b[1;36m28\u001b[0m\u001b[1;33m,\u001b[0m\u001b[1;36m28\u001b[0m\u001b[1;33m)\u001b[0m\u001b[1;33m)\u001b[0m\u001b[1;33m,\u001b[0m\u001b[1;33m\u001b[0m\u001b[1;33m\u001b[0m\u001b[0m\n\u001b[1;32m----> 3\u001b[1;33m     \u001b[0mSimple_Dense\u001b[0m\u001b[1;33m(\u001b[0m\u001b[1;36m128\u001b[0m\u001b[1;33m,\u001b[0m \u001b[0mactivation\u001b[0m \u001b[1;33m=\u001b[0m \u001b[1;34m'relu'\u001b[0m\u001b[1;33m)\u001b[0m\u001b[1;33m,\u001b[0m\u001b[1;33m\u001b[0m\u001b[1;33m\u001b[0m\u001b[0m\n\u001b[0m\u001b[0;32m      4\u001b[0m     \u001b[0mtf\u001b[0m\u001b[1;33m.\u001b[0m\u001b[0mkeras\u001b[0m\u001b[1;33m.\u001b[0m\u001b[0mlayers\u001b[0m\u001b[1;33m.\u001b[0m\u001b[0mDropout\u001b[0m\u001b[1;33m(\u001b[0m\u001b[1;36m0.2\u001b[0m\u001b[1;33m)\u001b[0m\u001b[1;33m,\u001b[0m\u001b[1;33m\u001b[0m\u001b[1;33m\u001b[0m\u001b[0m\n\u001b[0;32m      5\u001b[0m     \u001b[0mtf\u001b[0m\u001b[1;33m.\u001b[0m\u001b[0mkeras\u001b[0m\u001b[1;33m.\u001b[0m\u001b[0mlayers\u001b[0m\u001b[1;33m.\u001b[0m\u001b[0mDense\u001b[0m\u001b[1;33m(\u001b[0m\u001b[1;36m10\u001b[0m\u001b[1;33m,\u001b[0m \u001b[0mactivation\u001b[0m \u001b[1;33m=\u001b[0m \u001b[1;34m'softmax'\u001b[0m\u001b[1;33m)\u001b[0m\u001b[1;33m\u001b[0m\u001b[1;33m\u001b[0m\u001b[0m\n",
      "\u001b[1;31mNameError\u001b[0m: name 'Simple_Dense' is not defined"
     ]
    }
   ],
   "source": [
    "model3 = tf.keras.Sequential([\n",
    "    tf.keras.layers.Flatten(input_shape = (28,28)),\n",
    "    Simple_Dense(128, activation = 'relu'),\n",
    "    tf.keras.layers.Dropout(0.2),\n",
    "    tf.keras.layers.Dense(10, activation = 'softmax')\n",
    "])\n",
    "\n",
    "model3.compile(optimizer = 'adam', loss = 'sparse_categorical_crossentropy', metrics = ['accuracy'])\n",
    "model3.fit(x_train, y_train, epochs = 50)\n",
    "model3.evaluate(x_test, y_test)"
   ]
  }
 ],
 "metadata": {
  "kernelspec": {
   "display_name": "Tensor1.2",
   "language": "python",
   "name": "tensor1.2"
  },
  "language_info": {
   "codemirror_mode": {
    "name": "ipython",
    "version": 3
   },
   "file_extension": ".py",
   "mimetype": "text/x-python",
   "name": "python",
   "nbconvert_exporter": "python",
   "pygments_lexer": "ipython3",
   "version": "3.6.10"
  }
 },
 "nbformat": 4,
 "nbformat_minor": 2
}
