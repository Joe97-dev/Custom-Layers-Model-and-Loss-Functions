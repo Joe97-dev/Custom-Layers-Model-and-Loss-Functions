{
 "cells": [
  {
   "cell_type": "markdown",
   "metadata": {},
   "source": [
    "## Custom Loss Function "
   ]
  },
  {
   "cell_type": "code",
   "execution_count": 13,
   "metadata": {},
   "outputs": [
    {
     "name": "stdout",
     "output_type": "stream",
     "text": [
      "2.1.0\n"
     ]
    }
   ],
   "source": [
    "import tensorflow as tf\n",
    "print(tf.__version__)"
   ]
  },
  {
   "cell_type": "code",
   "execution_count": 14,
   "metadata": {},
   "outputs": [],
   "source": [
    "# Huber Loss Function\n",
    "def my_huber_function(y_true, y_pred):\n",
    "    threshold =3\n",
    "    error = y_true - y_pred\n",
    "    is_small_error = tf.abs(error) <= threshold\n",
    "    small_error_loss = tf.square(error) / 2\n",
    "    big_error_loss = threshold * (tf.abs(error) - (0.5 * threshold))\n",
    "    return tf.where(is_small_error, small_error_loss,big_error_loss)"
   ]
  },
  {
   "cell_type": "code",
   "execution_count": 15,
   "metadata": {},
   "outputs": [],
   "source": [
    "# Implementing it in a neural network\n",
    "import numpy as np\n",
    "xs = np.array([-1.0,0.0,1.0,2.0,3.0,4.0], dtype=float)\n",
    "ys = np.array([-3.0,-1.0,1.0,3.0,5.0,7.0], dtype = float)"
   ]
  },
  {
   "cell_type": "code",
   "execution_count": 16,
   "metadata": {},
   "outputs": [
    {
     "data": {
      "text/plain": [
       "<tensorflow.python.keras.callbacks.History at 0xcc0f978f60>"
      ]
     },
     "execution_count": 16,
     "metadata": {},
     "output_type": "execute_result"
    }
   ],
   "source": [
    "model = tf.keras.Sequential([\n",
    "    tf.keras.layers.Dense(units = 1, input_shape = [1])\n",
    "])\n",
    "model.compile(optimizer = 'sgd', loss = my_huber_function)\n",
    "model.fit(xs, ys, epochs = 500, verbose = 0 )"
   ]
  },
  {
   "cell_type": "code",
   "execution_count": 17,
   "metadata": {
    "scrolled": true
   },
   "outputs": [
    {
     "name": "stdout",
     "output_type": "stream",
     "text": [
      "[[18.7072]]\n"
     ]
    }
   ],
   "source": [
    "print(model.predict([10.0]))"
   ]
  },
  {
   "cell_type": "code",
   "execution_count": 18,
   "metadata": {},
   "outputs": [],
   "source": [
    "# Adding parameters to the custom function\n",
    "def my_huber_loss_with_threshold(threshold):\n",
    "    def my_huber_function(y_true, y_pred):\n",
    "        threshold =3\n",
    "        error = y_true - y_pred\n",
    "        is_small_error = tf.abs(error) <= threshold\n",
    "        small_error_loss = tf.square(error) / 2\n",
    "        big_error_loss = threshold * (tf.abs(error) - (0.5 * threshold))\n",
    "        return tf.where(is_small_error, small_error_loss,big_error_loss)\n",
    "    return my_huber_function"
   ]
  },
  {
   "cell_type": "code",
   "execution_count": 19,
   "metadata": {},
   "outputs": [
    {
     "name": "stdout",
     "output_type": "stream",
     "text": [
      "[[18.7072]]\n"
     ]
    }
   ],
   "source": [
    "xs1 = np.array([-1.0,0.0,1.0,2.0,3.0,4.0], dtype=float)\n",
    "ys1 = np.array([-3.0,-1.0,1.0,3.0,5.0,7.0], dtype = float)\n",
    "model1 = tf.keras.Sequential([\n",
    "    tf.keras.layers.Dense(units = 1, input_shape = [1])\n",
    "])\n",
    "model1.compile(optimizer = 'sgd', loss = my_huber_loss_with_threshold(threshold = 1.2))\n",
    "model1.fit(xs1,ys1, epochs = 30, verbose = 0)\n",
    "print(model.predict([10]))"
   ]
  },
  {
   "cell_type": "code",
   "execution_count": 20,
   "metadata": {},
   "outputs": [],
   "source": [
    "# Tuning loss functions into classes\n",
    "from tensorflow.keras.losses import Loss\n",
    "class MyHuberLoss(Loss):\n",
    "    threshold = 1\n",
    "    def __init__(self, threshold):\n",
    "        super().__init__()\n",
    "        self.threshold = threshold\n",
    "    def call(self, y_true, y_pred):\n",
    "        error = y_true - y_pred\n",
    "        is_small_error = tf.abs(error) <= self.threshold\n",
    "        small_error_loss = tf.square(error) / 2\n",
    "        big_error_loss = self.threshold * (tf.abs(error) - (0.5 * self.threshold))\n",
    "        return tf.where(is_small_error, small_error_loss, big_error_loss)\n",
    "    "
   ]
  },
  {
   "cell_type": "code",
   "execution_count": 21,
   "metadata": {},
   "outputs": [
    {
     "name": "stdout",
     "output_type": "stream",
     "text": [
      "[[18.7072]]\n"
     ]
    }
   ],
   "source": [
    "xs1 = np.array([-1.0,0.0,1.0,2.0,3.0,4.0], dtype=float)\n",
    "ys1 = np.array([-3.0,-1.0,1.0,3.0,5.0,7.0], dtype = float)\n",
    "model1 = tf.keras.Sequential([\n",
    "    tf.keras.layers.Dense(units = 1, input_shape = [1])\n",
    "])\n",
    "model1.compile(optimizer = 'sgd', loss = MyHuberLoss(threshold = 1.6))\n",
    "model1.fit(xs1,ys1, epochs = 30, verbose = 0)\n",
    "print(model.predict([10]))"
   ]
  },
  {
   "cell_type": "markdown",
   "metadata": {},
   "source": [
    "#### Constrative Loss"
   ]
  },
  {
   "cell_type": "raw",
   "metadata": {},
   "source": [
    "The formula of contrastive loss is:\n",
    "Y * D^2 + (1-Y)*max(margin-D,0)^2\n",
    "where: Y = y_true\n",
    "       D = y_pred "
   ]
  },
  {
   "cell_type": "code",
   "execution_count": 22,
   "metadata": {},
   "outputs": [],
   "source": [
    "# Constrative Loss function\n",
    "def constrative_loss(y_true, y_pred):\n",
    "    margin = 1\n",
    "    square_pred = K.square(y_pred)\n",
    "    margin_square = K.square(K.maximum(margin-y_pred, 0))\n",
    "    return K.mean(y_true * square_pred + (1 - y_true) * margin_square)"
   ]
  },
  {
   "cell_type": "code",
   "execution_count": 23,
   "metadata": {},
   "outputs": [],
   "source": [
    "from keras import backend as K\n",
    "# Constrative Loss Class\n",
    "class MyConstrativeLoss(Loss):\n",
    "    margin = 1\n",
    "    def __init__(self, margin):\n",
    "        super().__init__()\n",
    "        self.margin = margin\n",
    "    def call(self, y_true, y_pred):\n",
    "        square_pred = K.square(y_pred)\n",
    "        margin_square = K.square(K.maximum(self.margin-y_pred, 0))\n",
    "        return K.mean(y_true * square_pred + (1 - y_true) * margin_square)\n",
    "    "
   ]
  },
  {
   "cell_type": "code",
   "execution_count": 24,
   "metadata": {},
   "outputs": [
    {
     "name": "stdout",
     "output_type": "stream",
     "text": [
      "[[-119.41753]]\n"
     ]
    }
   ],
   "source": [
    "model1.compile(optimizer = 'sgd', loss = MyConstrativeLoss(margin = 1.2))\n",
    "model1.fit(xs1, ys1, epochs = 200, verbose = 0)\n",
    "print(model1.predict([10]))"
   ]
  },
  {
   "cell_type": "code",
   "execution_count": 26,
   "metadata": {},
   "outputs": [],
   "source": [
    "#Assignment: Creating a custom function\n",
    "import tensorflow as tf\n",
    "import numpy as np\n",
    "from tensorflow import keras\n",
    "from tensorflow.keras import backend as K\n"
   ]
  },
  {
   "cell_type": "code",
   "execution_count": 27,
   "metadata": {},
   "outputs": [],
   "source": [
    "# Inputs\n",
    "x_s = np.array([-1.0,  0.0, 1.0, 2.0, 3.0, 4.0], dtype=float)\n",
    "\n",
    "# Labels . relationship with the inputs above is y=2x-1\n",
    "y_s = np.array([-3.0, -1.0, 1.0, 3.0, 5.0, 7.0], dtype=float)"
   ]
  },
  {
   "cell_type": "code",
   "execution_count": 28,
   "metadata": {},
   "outputs": [],
   "source": [
    "def my_rmse(y_true, y_pred):\n",
    "    error = y_true - y_pred\n",
    "    sqr_error = K.square(error)\n",
    "    mean_sqr_error = K.mean(sqr_error)\n",
    "    sqrt_mean_sqr_error = K.sqrt(mean_sqr_error)\n",
    "    return sqrt_mean_sqr_error\n",
    "    "
   ]
  },
  {
   "cell_type": "code",
   "execution_count": 29,
   "metadata": {},
   "outputs": [],
   "source": [
    "# Define a model using the custom loss function\n",
    "## Define the model architecture\n",
    "model_1 = tf.keras.Sequential([tf.keras.layers.Dense(units = 1, input_shape = [1])])"
   ]
  },
  {
   "cell_type": "code",
   "execution_count": 31,
   "metadata": {},
   "outputs": [
    {
     "name": "stdout",
     "output_type": "stream",
     "text": [
      "[[19.192602]]\n"
     ]
    }
   ],
   "source": [
    "# Use the function you just coded as the loss\n",
    "model_1.compile(optimizer = 'sgd', loss = my_rmse)\n",
    "\n",
    "# Train the model\n",
    "model_1.fit(x_s, y_s, epochs = 500, verbose = 0)\n",
    "\n",
    "# Test with a sample input\n",
    "print(model_1.predict([10.0]))"
   ]
  }
 ],
 "metadata": {
  "kernelspec": {
   "display_name": "Tensor1.2",
   "language": "python",
   "name": "tensor1.2"
  },
  "language_info": {
   "codemirror_mode": {
    "name": "ipython",
    "version": 3
   },
   "file_extension": ".py",
   "mimetype": "text/x-python",
   "name": "python",
   "nbconvert_exporter": "python",
   "pygments_lexer": "ipython3",
   "version": "3.6.10"
  }
 },
 "nbformat": 4,
 "nbformat_minor": 2
}
